{
 "cells": [
  {
   "cell_type": "code",
   "execution_count": 1,
   "id": "ea968d19-5cdf-4d9c-ba45-b0dc7b87a8cd",
   "metadata": {},
   "outputs": [],
   "source": [
    "import tensorflow as tf"
   ]
  },
  {
   "cell_type": "code",
   "execution_count": 41,
   "id": "b993c1d0-02f3-4cd4-927d-a16f3d03a9ab",
   "metadata": {},
   "outputs": [
    {
     "ename": "InvalidArgumentError",
     "evalue": "{{function_node __wrapped__MatMul_device_/job:localhost/replica:0/task:0/device:CPU:0}} In[0] and In[1] ndims must be == 2: 1 [Op:MatMul] name: ",
     "output_type": "error",
     "traceback": [
      "\u001b[1;31m---------------------------------------------------------------------------\u001b[0m",
      "\u001b[1;31mInvalidArgumentError\u001b[0m                      Traceback (most recent call last)",
      "Cell \u001b[1;32mIn[41], line 56\u001b[0m\n\u001b[0;32m     53\u001b[0m z \u001b[38;5;241m=\u001b[39m tf\u001b[38;5;241m.\u001b[39mreduce_sum(x\u001b[38;5;241m*\u001b[39my, axis\u001b[38;5;241m=\u001b[39m\u001b[38;5;241m0\u001b[39m)\n\u001b[0;32m     55\u001b[0m \u001b[38;5;66;03m#z = tf.matmul(x, y)\u001b[39;00m\n\u001b[1;32m---> 56\u001b[0m z \u001b[38;5;241m=\u001b[39m \u001b[43mx\u001b[49m\u001b[43m \u001b[49m\u001b[38;5;241;43m@\u001b[39;49m\u001b[43m \u001b[49m\u001b[43my\u001b[49m\n\u001b[0;32m     57\u001b[0m \u001b[38;5;28mprint\u001b[39m(z)\n",
      "File \u001b[1;32m~\\AppData\\Roaming\\Python\\Python312\\site-packages\\tensorflow\\python\\util\\traceback_utils.py:153\u001b[0m, in \u001b[0;36mfilter_traceback.<locals>.error_handler\u001b[1;34m(*args, **kwargs)\u001b[0m\n\u001b[0;32m    151\u001b[0m \u001b[38;5;28;01mexcept\u001b[39;00m \u001b[38;5;167;01mException\u001b[39;00m \u001b[38;5;28;01mas\u001b[39;00m e:\n\u001b[0;32m    152\u001b[0m   filtered_tb \u001b[38;5;241m=\u001b[39m _process_traceback_frames(e\u001b[38;5;241m.\u001b[39m__traceback__)\n\u001b[1;32m--> 153\u001b[0m   \u001b[38;5;28;01mraise\u001b[39;00m e\u001b[38;5;241m.\u001b[39mwith_traceback(filtered_tb) \u001b[38;5;28;01mfrom\u001b[39;00m \u001b[38;5;28;01mNone\u001b[39;00m\n\u001b[0;32m    154\u001b[0m \u001b[38;5;28;01mfinally\u001b[39;00m:\n\u001b[0;32m    155\u001b[0m   \u001b[38;5;28;01mdel\u001b[39;00m filtered_tb\n",
      "File \u001b[1;32m~\\AppData\\Roaming\\Python\\Python312\\site-packages\\tensorflow\\python\\framework\\ops.py:5983\u001b[0m, in \u001b[0;36mraise_from_not_ok_status\u001b[1;34m(e, name)\u001b[0m\n\u001b[0;32m   5981\u001b[0m \u001b[38;5;28;01mdef\u001b[39;00m \u001b[38;5;21mraise_from_not_ok_status\u001b[39m(e, name) \u001b[38;5;241m-\u001b[39m\u001b[38;5;241m>\u001b[39m NoReturn:\n\u001b[0;32m   5982\u001b[0m   e\u001b[38;5;241m.\u001b[39mmessage \u001b[38;5;241m+\u001b[39m\u001b[38;5;241m=\u001b[39m (\u001b[38;5;124m\"\u001b[39m\u001b[38;5;124m name: \u001b[39m\u001b[38;5;124m\"\u001b[39m \u001b[38;5;241m+\u001b[39m \u001b[38;5;28mstr\u001b[39m(name \u001b[38;5;28;01mif\u001b[39;00m name \u001b[38;5;129;01mis\u001b[39;00m \u001b[38;5;129;01mnot\u001b[39;00m \u001b[38;5;28;01mNone\u001b[39;00m \u001b[38;5;28;01melse\u001b[39;00m \u001b[38;5;124m\"\u001b[39m\u001b[38;5;124m\"\u001b[39m))\n\u001b[1;32m-> 5983\u001b[0m   \u001b[38;5;28;01mraise\u001b[39;00m core\u001b[38;5;241m.\u001b[39m_status_to_exception(e) \u001b[38;5;28;01mfrom\u001b[39;00m \u001b[38;5;28;01mNone\u001b[39;00m\n",
      "\u001b[1;31mInvalidArgumentError\u001b[0m: {{function_node __wrapped__MatMul_device_/job:localhost/replica:0/task:0/device:CPU:0}} In[0] and In[1] ndims must be == 2: 1 [Op:MatMul] name: "
     ]
    }
   ],
   "source": [
    "# initialization of tensors\n",
    "x = tf.constant(4.0, shape=(1,1), dtype=tf.float32)\n",
    "\n",
    "x = tf.constant([[1, 2, 3], [4, 5, 6]])\n",
    "\n",
    "# this will provide a 3x3 matrix containing ones\n",
    "x = tf.ones((3,3))\n",
    "\n",
    "# this will provide a 3x3 matrix containing zeros\n",
    "x = tf.zeros((3,4))\n",
    "\n",
    "# this will provide a 3x3 matrix containing diagonal elements as ones or identity matrix\n",
    "x = tf.eye((3))\n",
    "\n",
    "\n",
    "# this will give a standard normal distribution.\n",
    "x = tf.random.normal((3,3), mean=0, stddev=1)\n",
    "\n",
    "# this will give uniform distribution\n",
    "x = tf.random.uniform((3,3), minval=0, maxval=1)\n",
    "\n",
    "# output will be from 0 to 8\n",
    "x = tf.range(9)\n",
    "\n",
    "# delta = how much value to escape\n",
    "# output is 1, 3, 5, 7, 9\n",
    "x = tf.range(start=1, limit=10, delta=2)\n",
    "\n",
    "x = tf.cast(x, dtype=tf.float32)\n",
    "\n",
    "x = tf.constant([1, 2, 3])\n",
    "y = tf.constant([9, 4, 1])\n",
    "\n",
    "# addition of tensors\n",
    "z = tf.add(x,y)\n",
    "z = x+y\n",
    "\n",
    "# subtraction of tensors\n",
    "z = tf.subtract(x,y)\n",
    "z = x-y\n",
    "\n",
    "# multiplication of tensors\n",
    "z = tf.multiply(x,y)\n",
    "z = x*y\n",
    "\n",
    "# division of tensors\n",
    "z = tf.divide(x,y)\n",
    "z = x/y\n",
    "\n",
    "# dot product in tensors\n",
    "z = tf.tensordot(x, y, axes = 1)\n",
    "\n",
    "z = tf.reduce_sum(x*y, axis=0)\n",
    "\n",
    "z = tf.matmul(x, y)\n",
    "z = x @ y\n",
    "print(z)\n"
   ]
  },
  {
   "cell_type": "code",
   "execution_count": null,
   "id": "0da8ece8-2b45-432e-a63c-93faf9e35f9a",
   "metadata": {},
   "outputs": [],
   "source": []
  },
  {
   "cell_type": "code",
   "execution_count": null,
   "id": "eeead975-dad4-4a98-8527-3c64845c23f2",
   "metadata": {},
   "outputs": [],
   "source": []
  },
  {
   "cell_type": "code",
   "execution_count": null,
   "id": "4e7a93d1-9267-486c-8e5c-0705dd2262a0",
   "metadata": {},
   "outputs": [],
   "source": []
  },
  {
   "cell_type": "code",
   "execution_count": null,
   "id": "886c3729-85f1-4eae-9419-5cdbc2b7c243",
   "metadata": {},
   "outputs": [],
   "source": []
  },
  {
   "cell_type": "code",
   "execution_count": null,
   "id": "258d6556-f545-4c4e-bd29-2fddba54ae38",
   "metadata": {},
   "outputs": [],
   "source": []
  },
  {
   "cell_type": "code",
   "execution_count": null,
   "id": "c96f55f2-85e4-4ecf-8611-a07bf5aec5ca",
   "metadata": {},
   "outputs": [],
   "source": []
  }
 ],
 "metadata": {
  "kernelspec": {
   "display_name": "Python 3 (ipykernel)",
   "language": "python",
   "name": "python3"
  },
  "language_info": {
   "codemirror_mode": {
    "name": "ipython",
    "version": 3
   },
   "file_extension": ".py",
   "mimetype": "text/x-python",
   "name": "python",
   "nbconvert_exporter": "python",
   "pygments_lexer": "ipython3",
   "version": "3.12.1"
  }
 },
 "nbformat": 4,
 "nbformat_minor": 5
}
