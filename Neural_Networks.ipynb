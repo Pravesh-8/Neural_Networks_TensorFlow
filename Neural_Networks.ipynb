{
 "cells": [
  {
   "cell_type": "code",
   "execution_count": 1,
   "id": "74e6eda3-1aa9-4432-99a1-b70364f59f6a",
   "metadata": {},
   "outputs": [
    {
     "name": "stdout",
     "output_type": "stream",
     "text": [
      "Python:  3.12.2 (tags/v3.12.2:6abddd9, Feb  6 2024, 21:26:36) [MSC v.1937 64 bit (AMD64)]\n",
      "Numpy: 1.26.4\n",
      "Matplotlib: 3.8.3\n"
     ]
    }
   ],
   "source": [
    "import sys\n",
    "import numpy as np\n",
    "import matplotlib\n",
    "\n",
    "print(\"Python: \", sys.version)\n",
    "print(\"Numpy:\", np.__version__)\n",
    "print(\"Matplotlib:\", matplotlib.__version__)"
   ]
  },
  {
   "cell_type": "code",
   "execution_count": 2,
   "id": "2aa71ee2-23cb-48f8-a5f7-8a47a2eae9d7",
   "metadata": {},
   "outputs": [
    {
     "name": "stdout",
     "output_type": "stream",
     "text": [
      "35.7\n"
     ]
    }
   ],
   "source": [
    "# coding neurons\n",
    "inputs = [1.2, 5.1, 2.1]\n",
    "weights = [3.1, 2.1, 8.7]\n",
    "bias = 3\n",
    "\n",
    "output = inputs[0]*weights[0] + inputs[1]*weights[1] + inputs[2]*weights[2] + bias\n",
    "print(output)"
   ]
  },
  {
   "cell_type": "code",
   "execution_count": 3,
   "id": "b26ddfb0-e92f-4ffa-b247-a6887eb15c55",
   "metadata": {},
   "outputs": [],
   "source": [
    "# 2nd Video\n"
   ]
  },
  {
   "cell_type": "code",
   "execution_count": 4,
   "id": "0a639458-73fb-4215-8d86-ca88a2b74114",
   "metadata": {},
   "outputs": [
    {
     "name": "stdout",
     "output_type": "stream",
     "text": [
      "[4.8, 1.21, 2.385]\n"
     ]
    }
   ],
   "source": [
    "\"\"\"\n",
    "Here, we are having 3 neurons and all the neurons are having same inputs\n",
    "but the weights of each of the neurons are different and every neurons \n",
    "is having it's own biases.\n",
    "\n",
    "\"\"\"\n",
    "inputs = [1, 2, 3, 2.5]\n",
    "weights1 = [0.2, 0.8, -0.5, 1.0]\n",
    "weights2 = [0.5, -0.91, 0.26, -0.5]\n",
    "weights3 = [-0.26, -0.27, 0.17, 0.87]\n",
    "\n",
    "bias1 = 2\n",
    "bias2 = 3\n",
    "bias3 = 0.5\n",
    "\n",
    "output = [inputs[0]*weights1[0] + inputs[1]*weights1[1] + inputs[2]*weights1[2] + inputs[3]*weights1[3] + bias1,\n",
    "          inputs[0]*weights2[0] + inputs[1]*weights2[1] + inputs[2]*weights2[2] + inputs[3]*weights2[3] + bias2,\n",
    "          inputs[0]*weights3[0] + inputs[1]*weights3[1] + inputs[2]*weights3[2] + inputs[3]*weights3[3] + bias3]\n",
    "print(output)"
   ]
  },
  {
   "cell_type": "code",
   "execution_count": 5,
   "id": "150f19fc-49f6-4738-b58d-b39468558247",
   "metadata": {},
   "outputs": [],
   "source": [
    "# 3rd Video\n"
   ]
  },
  {
   "cell_type": "code",
   "execution_count": 6,
   "id": "1a9eb2eb-e403-43e3-a110-e54fde882ac9",
   "metadata": {},
   "outputs": [
    {
     "name": "stdout",
     "output_type": "stream",
     "text": [
      "[4.8, 1.21, 2.385]\n"
     ]
    }
   ],
   "source": [
    "inputs = [1, 2, 3, 2.5]\n",
    "\n",
    "weights = [[0.2, 0.8, -0.5, 1.0],\n",
    "           [0.5, -0.91, 0.26, -0.5],\n",
    "            [-0.26, -0.27, 0.17, 0.87]]\n",
    "\n",
    "biases = [2, 3, 0.5]\n",
    "\n",
    "# Output of Current Layer\n",
    "layer_outputs = []\n",
    "\n",
    "\"\"\"\n",
    "zip function is used to convert the given lists into a nested lists\n",
    "weights, biases are zipped\n",
    "\n",
    "\n",
    "First Iteration:\n",
    "\n",
    "neuron_weights = [0.2, 0.8, -0.5, 1.0]\n",
    "neuron_bias = 2\n",
    "For the first neuron:\n",
    "n_input = 1, weight = 0.2: neuron_output += 1 * 0.2\n",
    "n_input = 2, weight = 0.8: neuron_output += 2 * 0.8\n",
    "n_input = 3, weight = -0.5: neuron_output += 3 * (-0.5)\n",
    "n_input = 2.5, weight = 1.0: neuron_output += 2.5 * 1.0\n",
    "neuron_output += 2: Adding bias\n",
    "neuron_output = 0.2 + 1.6 - 1.5 + 2.5 + 2 = 5.8\n",
    "layer_outputs = [5.8]\n",
    "\n",
    "\n",
    "Second Iteration:\n",
    "\n",
    "neuron_weights = [0.5, -0.91, 0.26, -0.5]\n",
    "neuron_bias = 3\n",
    "For the second neuron:\n",
    "n_input = 1, weight = 0.5: neuron_output += 1 * 0.5\n",
    "n_input = 2, weight = -0.91: neuron_output += 2 * (-0.91)\n",
    "n_input = 3, weight = 0.26: neuron_output += 3 * 0.26\n",
    "n_input = 2.5, weight = -0.5: neuron_output += 2.5 * (-0.5)\n",
    "neuron_output += 3: Adding bias\n",
    "neuron_output = 0.5 - 1.82 + 0.78 - 1.25 + 3 = 1.26\n",
    "layer_outputs = [5.8, 1.26]\n",
    "\n",
    "\n",
    "Third Iteration:\n",
    "\n",
    "neuron_weights = [-0.26, -0.27, 0.17, 0.87]\n",
    "neuron_bias = 0.5\n",
    "For the third neuron:\n",
    "n_input = 1, weight = -0.26: neuron_output += 1 * (-0.26)\n",
    "n_input = 2, weight = -0.27: neuron_output += 2 * (-0.27)\n",
    "n_input = 3, weight = 0.17: neuron_output += 3 * 0.17\n",
    "n_input = 2.5, weight = 0.87: neuron_output += 2.5 * 0.87\n",
    "neuron_output += 0.5: Adding bias\n",
    "neuron_output = -0.26 - 0.54 + 0.51 + 2.175 + 0.5 = 2.385\n",
    "layer_outputs = [5.8, 1.26, 2.385]\n",
    "\n",
    "\n",
    "\"\"\"\n",
    "\n",
    "for neuron_weights, neuron_bias in zip(weights, biases):\n",
    "    neuron_output = 0 # output of given neuron\n",
    "    for n_input, weight in zip(inputs, neuron_weights):\n",
    "        neuron_output += n_input*weight\n",
    "    neuron_output += neuron_bias\n",
    "    layer_outputs.append(neuron_output)\n",
    "\n",
    "print(layer_outputs)"
   ]
  },
  {
   "cell_type": "code",
   "execution_count": 7,
   "id": "9335784c-04d5-476f-aa61-aaac9ecef6b9",
   "metadata": {},
   "outputs": [
    {
     "name": "stdout",
     "output_type": "stream",
     "text": [
      "[4.8   1.21  2.385]\n"
     ]
    }
   ],
   "source": [
    "# Tensor is an object that is used to store array.\n",
    "\n",
    "# dot Product\n",
    "\n",
    "inputs = [1, 2, 3, 2.5]\n",
    "\n",
    "weights = [[0.2, 0.8, -0.5, 1.0],\n",
    "           [0.5, -0.91, 0.26, -0.5],\n",
    "            [-0.26, -0.27, 0.17, 0.87]]\n",
    "\n",
    "biases = [2, 3, 0.5]\n",
    "\n",
    "# dot product\n",
    "output = np.dot(weights, inputs) + biases\n",
    "print(output)"
   ]
  },
  {
   "cell_type": "code",
   "execution_count": 8,
   "id": "2ce0c365-16b0-4944-a7ca-55e0c3b7362f",
   "metadata": {},
   "outputs": [],
   "source": [
    "# 4th Video\n"
   ]
  },
  {
   "cell_type": "code",
   "execution_count": 12,
   "id": "ea951337-db38-460a-888f-718d4bbb0652",
   "metadata": {},
   "outputs": [
    {
     "name": "stdout",
     "output_type": "stream",
     "text": [
      "[[ 4.8    1.21   2.385]\n",
      " [ 8.9   -1.81   0.2  ]\n",
      " [ 1.41   1.051  0.026]]\n"
     ]
    }
   ],
   "source": [
    "# Batches(collection of i/p) are used to plot the best fit line.\n",
    "# the more the batch size the less time required for plotting best fit line.\n",
    "inputs = [[1, 2, 3, 2.5],\n",
    "          [2.0, 5.0, -1.0, 2.0],\n",
    "          [-1.5, 2.7, 3.3, -0.8]]\n",
    "\n",
    "weights = [[0.2, 0.8, -0.5, 1.0],\n",
    "           [0.5, -0.91, 0.26, -0.5],\n",
    "            [-0.26, -0.27, 0.17, 0.87]]\n",
    "\n",
    "biases = [2, 3, 0.5]\n",
    "\n",
    "# dot product\n",
    "# converting the weights list to numpy array and transposing it.\n",
    "output = np.dot(inputs, np.array(weights).T) + biases\n",
    "print(output)"
   ]
  },
  {
   "cell_type": "code",
   "execution_count": 14,
   "id": "8dfcdad0-44c0-4381-8f6e-dba2fb5e72d7",
   "metadata": {},
   "outputs": [
    {
     "name": "stdout",
     "output_type": "stream",
     "text": [
      "[[ 0.5031  -1.04185 -2.03875]\n",
      " [ 0.2434  -2.7332  -5.7633 ]\n",
      " [-0.99314  1.41254 -0.35655]]\n"
     ]
    }
   ],
   "source": [
    "# Batches(collection of i/p) are used to plot the best fit line.\n",
    "# the more the batch size the less time required for plotting best fit line.\n",
    "inputs = [[1, 2, 3, 2.5],\n",
    "          [2.0, 5.0, -1.0, 2.0],\n",
    "          [-1.5, 2.7, 3.3, -0.8]]\n",
    "\n",
    "weights = [[0.2, 0.8, -0.5, 1.0],\n",
    "           [0.5, -0.91, 0.26, -0.5],\n",
    "            [-0.26, -0.27, 0.17, 0.87]]\n",
    "\n",
    "biases = [2, 3, 0.5]\n",
    "\n",
    "weights2 = [[0.1, -0.14, 0.5],\n",
    "           [-0.5, 0.12, -0.33],\n",
    "            [-0.44, 0.73, -0.13]]\n",
    "\n",
    "biases2 = [-1, 2, -0.5]\n",
    "\n",
    "# dot product\n",
    "# converting the weights list to numpy array and transposing it.\n",
    "layer1_outputs = np.dot(inputs, np.array(weights).T) + biases\n",
    "\n",
    "layer2_outputs = np.dot(layer1_outputs, np.array(weights2).T) + biases2\n",
    "\n",
    "print(layer2_outputs)"
   ]
  },
  {
   "cell_type": "code",
   "execution_count": 20,
   "id": "fc15414d-7862-4a3b-b1a1-7646c6f42f13",
   "metadata": {},
   "outputs": [
    {
     "name": "stdout",
     "output_type": "stream",
     "text": [
      "[[ 0.02295661 -0.03046261]\n",
      " [ 0.14088957 -0.02896866]\n",
      " [ 0.00633358 -0.00087365]]\n"
     ]
    }
   ],
   "source": [
    "# the more the batch size the less time required for plotting best fit line.\n",
    "# input data.\n",
    "X = [[1, 2, 3, 2.5],\n",
    "     [2.0, 5.0, -1.0, 2.0],\n",
    "     [-1.5, 2.7, 3.3, -0.8]]\n",
    "\n",
    "\n",
    "\n",
    "class Layer_Dense:\n",
    "    def __init__(self, n_inputs, n_neurons):\n",
    "        self.weights = 0.10 * np.random.randn(n_inputs, n_neurons)\n",
    "        self.biases = np.zeros((1, n_neurons))\n",
    "    def forward(self, inputs):\n",
    "        self.outputs = np.dot(inputs, self.weights) + self.biases\n",
    "\n",
    "layer1 = Layer_Dense(4, 5)\n",
    "layer2 = Layer_Dense(5, 2)\n",
    "\n",
    "layer1.forward(X)\n",
    "# print(layer1.outputs)\n",
    "\n",
    "layer2.forward(layer1.outputs)\n",
    "print(layer2.outputs)"
   ]
  },
  {
   "cell_type": "code",
   "execution_count": 21,
   "id": "026ccc24-5a50-4e9c-be39-979afa802abd",
   "metadata": {},
   "outputs": [],
   "source": [
    "# 5th Video\n"
   ]
  },
  {
   "cell_type": "code",
   "execution_count": null,
   "id": "3fb88fb5-b77f-4c53-b311-b6281ccf3352",
   "metadata": {},
   "outputs": [],
   "source": []
  }
 ],
 "metadata": {
  "kernelspec": {
   "display_name": "Python 3 (ipykernel)",
   "language": "python",
   "name": "python3"
  },
  "language_info": {
   "codemirror_mode": {
    "name": "ipython",
    "version": 3
   },
   "file_extension": ".py",
   "mimetype": "text/x-python",
   "name": "python",
   "nbconvert_exporter": "python",
   "pygments_lexer": "ipython3",
   "version": "3.12.2"
  }
 },
 "nbformat": 4,
 "nbformat_minor": 5
}
